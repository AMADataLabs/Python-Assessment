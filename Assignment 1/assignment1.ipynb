{
 "cells": [
  {
   "cell_type": "markdown",
   "metadata": {},
   "source": [
    "# Part One: Text Cleaning\n",
    "\n",
    "Implement a text-cleaning function that conforms to the test-cases outlined below."
   ]
  },
  {
   "cell_type": "code",
   "execution_count": null,
   "metadata": {},
   "outputs": [],
   "source": [
    "import numpy as np\n",
    "import pandas\n"
   ]
  },
  {
   "cell_type": "code",
   "execution_count": null,
   "metadata": {},
   "outputs": [],
   "source": [
    "# clean_number\n",
    "# Returns float/integer value of input text after minor text-cleaning, or \n",
    "# returns np.NaN if numeric value cannot be parsed without making excessive assumptions.\n",
    "# Input: text (string)\n",
    "# Output: numeric (int, float) or np.nan\n",
    "def clean_number(text):\n",
    "    #\n",
    "    # Your implementation here.\n",
    "    #\n"
   ]
  },
  {
   "cell_type": "markdown",
   "metadata": {},
   "source": [
    "#### The clean_number method should conform to pass the following test-cases:"
   ]
  },
  {
   "cell_type": "code",
   "execution_count": null,
   "metadata": {},
   "outputs": [],
   "source": [
    "result = clean_number('90')\n",
    "assert(result == 90), result"
   ]
  },
  {
   "cell_type": "code",
   "execution_count": null,
   "metadata": {},
   "outputs": [],
   "source": [
    "result = clean_number(' 90')\n",
    "assert(result == 90), result"
   ]
  },
  {
   "cell_type": "code",
   "execution_count": null,
   "metadata": {},
   "outputs": [],
   "source": [
    "result = clean_number('90.0')\n",
    "assert(result == 90), result"
   ]
  },
  {
   "cell_type": "code",
   "execution_count": null,
   "metadata": {},
   "outputs": [],
   "source": [
    "result = clean_number('9.0.0')\n",
    "assert(np.isnan(result)), result"
   ]
  },
  {
   "cell_type": "code",
   "execution_count": null,
   "metadata": {},
   "outputs": [],
   "source": [
    "result = clean_number('90.0!')\n",
    "assert(np.isnan(result)), result"
   ]
  },
  {
   "cell_type": "code",
   "execution_count": null,
   "metadata": {},
   "outputs": [],
   "source": [
    "result = clean_number('90*')\n",
    "assert(np.isnan(result)), result"
   ]
  },
  {
   "cell_type": "code",
   "execution_count": null,
   "metadata": {},
   "outputs": [],
   "source": [
    "result = clean_number('90hello')\n",
    "assert(np.isnan(result)), result"
   ]
  },
  {
   "cell_type": "code",
   "execution_count": null,
   "metadata": {},
   "outputs": [],
   "source": [
    "result = clean_number('hello90')\n",
    "assert(np.isnan(result)), result"
   ]
  },
  {
   "cell_type": "markdown",
   "metadata": {},
   "source": [
    "# Part Two: Weather Data\n",
    "\n",
    "1. Read an input file, 'weather.csv' to a Pandas DataFrame\n",
    "\n",
    "\n",
    "2. Add a new column that represents the temperature spread for the day. \n",
    "\n",
    "    **Spread** = maximum temp (**MxT**) - minimum temp (**MnT**)\n",
    "    \n",
    "Hint: The method implemented above *might* be useful!"
   ]
  },
  {
   "cell_type": "code",
   "execution_count": null,
   "metadata": {},
   "outputs": [],
   "source": [
    "# Read file here\n"
   ]
  },
  {
   "cell_type": "code",
   "execution_count": null,
   "metadata": {},
   "outputs": [],
   "source": [
    "# Add a new column for the temperature spread here.\n"
   ]
  },
  {
   "cell_type": "code",
   "execution_count": null,
   "metadata": {},
   "outputs": [],
   "source": [
    "# Output the minimum valid temperature spread (exclude NaN)\n"
   ]
  },
  {
   "cell_type": "code",
   "execution_count": null,
   "metadata": {},
   "outputs": [],
   "source": [
    "# Output the day(s) corresponding with the minimum temperature spread\n"
   ]
  },
  {
   "cell_type": "markdown",
   "metadata": {},
   "source": [
    "# Part Three: Soccer League Table\n",
    "\n",
    "The file 'football.csv' contains soccer results. Add a new column that represents the difference in 'for' (F) and 'against' (A) goals.  The columns labeled ‘F’ and ‘A’ contain the total number of goals scored for and against each team in that season (so Arsenal scored 79 goals against opponents and had 36 goals scored against them).\n",
    "\n",
    "Write a program to print the name of the team with the smallest difference in ‘for’ and ‘against’ goals.\n"
   ]
  },
  {
   "cell_type": "code",
   "execution_count": null,
   "metadata": {},
   "outputs": [],
   "source": [
    "# Your work here\n"
   ]
  },
  {
   "cell_type": "markdown",
   "metadata": {},
   "source": [
    "# Part Four: DRY Fusion\n",
    "\n",
    "Take the two programs written previously and factor out as much common code as possible, leaving you with two smaller programs and some kind of shared functionality."
   ]
  },
  {
   "cell_type": "code",
   "execution_count": null,
   "metadata": {},
   "outputs": [],
   "source": [
    "# Your work here\n"
   ]
  },
  {
   "cell_type": "code",
   "execution_count": null,
   "metadata": {},
   "outputs": [],
   "source": []
  }
 ],
 "metadata": {
  "kernelspec": {
   "display_name": "Python 3",
   "language": "python",
   "name": "python3"
  },
  "language_info": {
   "codemirror_mode": {
    "name": "ipython",
    "version": 3
   },
   "file_extension": ".py",
   "mimetype": "text/x-python",
   "name": "python",
   "nbconvert_exporter": "python",
   "pygments_lexer": "ipython3",
   "version": "3.7.10"
  }
 },
 "nbformat": 4,
 "nbformat_minor": 2
}
